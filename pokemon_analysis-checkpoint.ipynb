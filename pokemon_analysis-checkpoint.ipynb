{
 "cells": [
  {
   "cell_type": "markdown",
   "id": "2f00c967-2628-4907-b8a6-804dadabb34b",
   "metadata": {},
   "source": [
    "Import necessary libraries"
   ]
  },
  {
   "cell_type": "code",
   "execution_count": 1,
   "id": "4fb14d36-632f-4c97-ba07-041fc9fdf56e",
   "metadata": {},
   "outputs": [],
   "source": [
    "import pandas as pd\n",
    "import numpy as np\n",
    "import matplotlib.pyplot as plt"
   ]
  },
  {
   "cell_type": "markdown",
   "id": "08557af4-6dec-4089-a5a7-98f0c29aec6b",
   "metadata": {},
   "source": [
    "## Understanding dataset\n",
    "#### Importing the dataset"
   ]
  },
  {
   "cell_type": "code",
   "execution_count": 2,
   "id": "9618ab61-9319-4050-b5e1-bfaa7e849cdd",
   "metadata": {},
   "outputs": [
    {
     "data": {
      "text/html": [
       "<div>\n",
       "<style scoped>\n",
       "    .dataframe tbody tr th:only-of-type {\n",
       "        vertical-align: middle;\n",
       "    }\n",
       "\n",
       "    .dataframe tbody tr th {\n",
       "        vertical-align: top;\n",
       "    }\n",
       "\n",
       "    .dataframe thead th {\n",
       "        text-align: right;\n",
       "    }\n",
       "</style>\n",
       "<table border=\"1\" class=\"dataframe\">\n",
       "  <thead>\n",
       "    <tr style=\"text-align: right;\">\n",
       "      <th></th>\n",
       "      <th>abilities</th>\n",
       "      <th>against_bug</th>\n",
       "      <th>against_dark</th>\n",
       "      <th>against_dragon</th>\n",
       "      <th>against_electric</th>\n",
       "      <th>against_fairy</th>\n",
       "      <th>against_fight</th>\n",
       "      <th>against_fire</th>\n",
       "      <th>against_flying</th>\n",
       "      <th>against_ghost</th>\n",
       "      <th>...</th>\n",
       "      <th>percentage_male</th>\n",
       "      <th>pokedex_number</th>\n",
       "      <th>sp_attack</th>\n",
       "      <th>sp_defense</th>\n",
       "      <th>speed</th>\n",
       "      <th>type1</th>\n",
       "      <th>type2</th>\n",
       "      <th>weight_kg</th>\n",
       "      <th>generation</th>\n",
       "      <th>is_legendary</th>\n",
       "    </tr>\n",
       "  </thead>\n",
       "  <tbody>\n",
       "    <tr>\n",
       "      <th>0</th>\n",
       "      <td>['Overgrow', 'Chlorophyll']</td>\n",
       "      <td>1.0</td>\n",
       "      <td>1.0</td>\n",
       "      <td>1.0</td>\n",
       "      <td>0.5</td>\n",
       "      <td>0.5</td>\n",
       "      <td>0.5</td>\n",
       "      <td>2.0</td>\n",
       "      <td>2.0</td>\n",
       "      <td>1.0</td>\n",
       "      <td>...</td>\n",
       "      <td>88.1</td>\n",
       "      <td>1</td>\n",
       "      <td>65</td>\n",
       "      <td>65</td>\n",
       "      <td>45</td>\n",
       "      <td>grass</td>\n",
       "      <td>poison</td>\n",
       "      <td>6.9</td>\n",
       "      <td>1</td>\n",
       "      <td>0</td>\n",
       "    </tr>\n",
       "    <tr>\n",
       "      <th>1</th>\n",
       "      <td>['Overgrow', 'Chlorophyll']</td>\n",
       "      <td>1.0</td>\n",
       "      <td>1.0</td>\n",
       "      <td>1.0</td>\n",
       "      <td>0.5</td>\n",
       "      <td>0.5</td>\n",
       "      <td>0.5</td>\n",
       "      <td>2.0</td>\n",
       "      <td>2.0</td>\n",
       "      <td>1.0</td>\n",
       "      <td>...</td>\n",
       "      <td>88.1</td>\n",
       "      <td>2</td>\n",
       "      <td>80</td>\n",
       "      <td>80</td>\n",
       "      <td>60</td>\n",
       "      <td>grass</td>\n",
       "      <td>poison</td>\n",
       "      <td>13.0</td>\n",
       "      <td>1</td>\n",
       "      <td>0</td>\n",
       "    </tr>\n",
       "    <tr>\n",
       "      <th>2</th>\n",
       "      <td>['Overgrow', 'Chlorophyll']</td>\n",
       "      <td>1.0</td>\n",
       "      <td>1.0</td>\n",
       "      <td>1.0</td>\n",
       "      <td>0.5</td>\n",
       "      <td>0.5</td>\n",
       "      <td>0.5</td>\n",
       "      <td>2.0</td>\n",
       "      <td>2.0</td>\n",
       "      <td>1.0</td>\n",
       "      <td>...</td>\n",
       "      <td>88.1</td>\n",
       "      <td>3</td>\n",
       "      <td>122</td>\n",
       "      <td>120</td>\n",
       "      <td>80</td>\n",
       "      <td>grass</td>\n",
       "      <td>poison</td>\n",
       "      <td>100.0</td>\n",
       "      <td>1</td>\n",
       "      <td>0</td>\n",
       "    </tr>\n",
       "    <tr>\n",
       "      <th>3</th>\n",
       "      <td>['Blaze', 'Solar Power']</td>\n",
       "      <td>0.5</td>\n",
       "      <td>1.0</td>\n",
       "      <td>1.0</td>\n",
       "      <td>1.0</td>\n",
       "      <td>0.5</td>\n",
       "      <td>1.0</td>\n",
       "      <td>0.5</td>\n",
       "      <td>1.0</td>\n",
       "      <td>1.0</td>\n",
       "      <td>...</td>\n",
       "      <td>88.1</td>\n",
       "      <td>4</td>\n",
       "      <td>60</td>\n",
       "      <td>50</td>\n",
       "      <td>65</td>\n",
       "      <td>fire</td>\n",
       "      <td>NaN</td>\n",
       "      <td>8.5</td>\n",
       "      <td>1</td>\n",
       "      <td>0</td>\n",
       "    </tr>\n",
       "    <tr>\n",
       "      <th>4</th>\n",
       "      <td>['Blaze', 'Solar Power']</td>\n",
       "      <td>0.5</td>\n",
       "      <td>1.0</td>\n",
       "      <td>1.0</td>\n",
       "      <td>1.0</td>\n",
       "      <td>0.5</td>\n",
       "      <td>1.0</td>\n",
       "      <td>0.5</td>\n",
       "      <td>1.0</td>\n",
       "      <td>1.0</td>\n",
       "      <td>...</td>\n",
       "      <td>88.1</td>\n",
       "      <td>5</td>\n",
       "      <td>80</td>\n",
       "      <td>65</td>\n",
       "      <td>80</td>\n",
       "      <td>fire</td>\n",
       "      <td>NaN</td>\n",
       "      <td>19.0</td>\n",
       "      <td>1</td>\n",
       "      <td>0</td>\n",
       "    </tr>\n",
       "  </tbody>\n",
       "</table>\n",
       "<p>5 rows × 41 columns</p>\n",
       "</div>"
      ],
      "text/plain": [
       "                     abilities  against_bug  against_dark  against_dragon  \\\n",
       "0  ['Overgrow', 'Chlorophyll']          1.0           1.0             1.0   \n",
       "1  ['Overgrow', 'Chlorophyll']          1.0           1.0             1.0   \n",
       "2  ['Overgrow', 'Chlorophyll']          1.0           1.0             1.0   \n",
       "3     ['Blaze', 'Solar Power']          0.5           1.0             1.0   \n",
       "4     ['Blaze', 'Solar Power']          0.5           1.0             1.0   \n",
       "\n",
       "   against_electric  against_fairy  against_fight  against_fire  \\\n",
       "0               0.5            0.5            0.5           2.0   \n",
       "1               0.5            0.5            0.5           2.0   \n",
       "2               0.5            0.5            0.5           2.0   \n",
       "3               1.0            0.5            1.0           0.5   \n",
       "4               1.0            0.5            1.0           0.5   \n",
       "\n",
       "   against_flying  against_ghost  ...  percentage_male  pokedex_number  \\\n",
       "0             2.0            1.0  ...             88.1               1   \n",
       "1             2.0            1.0  ...             88.1               2   \n",
       "2             2.0            1.0  ...             88.1               3   \n",
       "3             1.0            1.0  ...             88.1               4   \n",
       "4             1.0            1.0  ...             88.1               5   \n",
       "\n",
       "   sp_attack  sp_defense  speed  type1   type2  weight_kg  generation  \\\n",
       "0         65          65     45  grass  poison        6.9           1   \n",
       "1         80          80     60  grass  poison       13.0           1   \n",
       "2        122         120     80  grass  poison      100.0           1   \n",
       "3         60          50     65   fire     NaN        8.5           1   \n",
       "4         80          65     80   fire     NaN       19.0           1   \n",
       "\n",
       "   is_legendary  \n",
       "0             0  \n",
       "1             0  \n",
       "2             0  \n",
       "3             0  \n",
       "4             0  \n",
       "\n",
       "[5 rows x 41 columns]"
      ]
     },
     "execution_count": 2,
     "metadata": {},
     "output_type": "execute_result"
    }
   ],
   "source": [
    "df=pd.read_csv('pokemon.csv')\n",
    "df.head()"
   ]
  },
  {
   "cell_type": "code",
   "execution_count": 3,
   "id": "07e6f1e0-8cc7-4388-8346-456469a042ff",
   "metadata": {},
   "outputs": [
    {
     "data": {
      "text/plain": [
       "Index(['abilities', 'against_bug', 'against_dark', 'against_dragon',\n",
       "       'against_electric', 'against_fairy', 'against_fight', 'against_fire',\n",
       "       'against_flying', 'against_ghost', 'against_grass', 'against_ground',\n",
       "       'against_ice', 'against_normal', 'against_poison', 'against_psychic',\n",
       "       'against_rock', 'against_steel', 'against_water', 'attack',\n",
       "       'base_egg_steps', 'base_happiness', 'base_total', 'capture_rate',\n",
       "       'classfication', 'defense', 'experience_growth', 'height_m', 'hp',\n",
       "       'japanese_name', 'name', 'percentage_male', 'pokedex_number',\n",
       "       'sp_attack', 'sp_defense', 'speed', 'type1', 'type2', 'weight_kg',\n",
       "       'generation', 'is_legendary'],\n",
       "      dtype='object')"
      ]
     },
     "execution_count": 3,
     "metadata": {},
     "output_type": "execute_result"
    }
   ],
   "source": [
    "# view all the columns in the datasets\n",
    "df.columns"
   ]
  },
  {
   "cell_type": "code",
   "execution_count": 4,
   "id": "82532f59-e064-4389-8119-15b590c90324",
   "metadata": {},
   "outputs": [
    {
     "data": {
      "text/plain": [
       "(801, 41)"
      ]
     },
     "execution_count": 4,
     "metadata": {},
     "output_type": "execute_result"
    }
   ],
   "source": [
    "# view the shape of the dataset\n",
    "df.shape"
   ]
  },
  {
   "cell_type": "code",
   "execution_count": 5,
   "id": "f7dcebca-cb91-4749-9384-12340eebcb5c",
   "metadata": {},
   "outputs": [
    {
     "name": "stdout",
     "output_type": "stream",
     "text": [
      "<class 'pandas.core.frame.DataFrame'>\n",
      "RangeIndex: 801 entries, 0 to 800\n",
      "Data columns (total 41 columns):\n",
      " #   Column             Non-Null Count  Dtype  \n",
      "---  ------             --------------  -----  \n",
      " 0   abilities          801 non-null    object \n",
      " 1   against_bug        801 non-null    float64\n",
      " 2   against_dark       801 non-null    float64\n",
      " 3   against_dragon     801 non-null    float64\n",
      " 4   against_electric   801 non-null    float64\n",
      " 5   against_fairy      801 non-null    float64\n",
      " 6   against_fight      801 non-null    float64\n",
      " 7   against_fire       801 non-null    float64\n",
      " 8   against_flying     801 non-null    float64\n",
      " 9   against_ghost      801 non-null    float64\n",
      " 10  against_grass      801 non-null    float64\n",
      " 11  against_ground     801 non-null    float64\n",
      " 12  against_ice        801 non-null    float64\n",
      " 13  against_normal     801 non-null    float64\n",
      " 14  against_poison     801 non-null    float64\n",
      " 15  against_psychic    801 non-null    float64\n",
      " 16  against_rock       801 non-null    float64\n",
      " 17  against_steel      801 non-null    float64\n",
      " 18  against_water      801 non-null    float64\n",
      " 19  attack             801 non-null    int64  \n",
      " 20  base_egg_steps     801 non-null    int64  \n",
      " 21  base_happiness     801 non-null    int64  \n",
      " 22  base_total         801 non-null    int64  \n",
      " 23  capture_rate       801 non-null    object \n",
      " 24  classfication      801 non-null    object \n",
      " 25  defense            801 non-null    int64  \n",
      " 26  experience_growth  801 non-null    int64  \n",
      " 27  height_m           781 non-null    float64\n",
      " 28  hp                 801 non-null    int64  \n",
      " 29  japanese_name      801 non-null    object \n",
      " 30  name               801 non-null    object \n",
      " 31  percentage_male    703 non-null    float64\n",
      " 32  pokedex_number     801 non-null    int64  \n",
      " 33  sp_attack          801 non-null    int64  \n",
      " 34  sp_defense         801 non-null    int64  \n",
      " 35  speed              801 non-null    int64  \n",
      " 36  type1              801 non-null    object \n",
      " 37  type2              417 non-null    object \n",
      " 38  weight_kg          781 non-null    float64\n",
      " 39  generation         801 non-null    int64  \n",
      " 40  is_legendary       801 non-null    int64  \n",
      "dtypes: float64(21), int64(13), object(7)\n",
      "memory usage: 256.7+ KB\n"
     ]
    }
   ],
   "source": [
    "# more information about dataset\n",
    "df.info()"
   ]
  },
  {
   "cell_type": "code",
   "execution_count": 6,
   "id": "11cda583-38eb-46bd-a876-e73e0e2fa587",
   "metadata": {},
   "outputs": [
    {
     "data": {
      "text/plain": [
       "abilities              0\n",
       "against_bug            0\n",
       "against_dark           0\n",
       "against_dragon         0\n",
       "against_electric       0\n",
       "against_fairy          0\n",
       "against_fight          0\n",
       "against_fire           0\n",
       "against_flying         0\n",
       "against_ghost          0\n",
       "against_grass          0\n",
       "against_ground         0\n",
       "against_ice            0\n",
       "against_normal         0\n",
       "against_poison         0\n",
       "against_psychic        0\n",
       "against_rock           0\n",
       "against_steel          0\n",
       "against_water          0\n",
       "attack                 0\n",
       "base_egg_steps         0\n",
       "base_happiness         0\n",
       "base_total             0\n",
       "capture_rate           0\n",
       "classfication          0\n",
       "defense                0\n",
       "experience_growth      0\n",
       "height_m              20\n",
       "hp                     0\n",
       "japanese_name          0\n",
       "name                   0\n",
       "percentage_male       98\n",
       "pokedex_number         0\n",
       "sp_attack              0\n",
       "sp_defense             0\n",
       "speed                  0\n",
       "type1                  0\n",
       "type2                384\n",
       "weight_kg             20\n",
       "generation             0\n",
       "is_legendary           0\n",
       "dtype: int64"
      ]
     },
     "execution_count": 6,
     "metadata": {},
     "output_type": "execute_result"
    }
   ],
   "source": [
    "# count the null values in each columns\n",
    "df.isnull().sum()"
   ]
  },
  {
   "cell_type": "markdown",
   "id": "8c5abe41-4309-4476-a253-c277fb627726",
   "metadata": {},
   "source": [
    "## Handling missing values"
   ]
  },
  {
   "cell_type": "markdown",
   "id": "ac127e44-05a5-4147-9900-901cde5e3087",
   "metadata": {},
   "source": [
    "The **height_m**(height in meters) column contains 20 missing values. To handle these, we can fill them with the median if the distribution is skewed or with the mean if it is not. The height_m column is significant, and dropping the 20 rows with missing values would impact the analysis since the total number of rows is only 801"
   ]
  },
  {
   "cell_type": "code",
   "execution_count": 7,
   "id": "22886591-0cc3-48b3-ac77-6843d5ece40d",
   "metadata": {},
   "outputs": [
    {
     "name": "stdout",
     "output_type": "stream",
     "text": [
      "Skewness: 5.0800157096334875\n"
     ]
    },
    {
     "data": {
      "image/png": "[encoded data removed]",
      "text/plain": [
       "<Figure size 640x480 with 1 Axes>"
      ]
     },
     "metadata": {},
     "output_type": "display_data"
    }
   ],
   "source": [
    "heights = df['height_m'].dropna()\n",
    "\n",
    "# find the skewness of the height \n",
    "skewness = heights.skew()\n",
    "print(f\"Skewness: {skewness}\")\n",
    "\n",
    "# Plot histogram to visualize the height distribution\n",
    "plt.hist(heights,bins=15,edgecolor='black')\n",
    "plt.title('Distribution of Pokémon Heights')\n",
    "plt.xlabel('Height (m)')\n",
    "plt.ylabel('Frequency')\n",
    "plt.show()"
   ]
  },
  {
   "cell_type": "markdown",
   "id": "08faafc8-0f01-44fd-8483-e7cf3af92cf0",
   "metadata": {},
   "source": [
    "From above **skewness is 5.0800157096334875(strongly positively skewed)**. We can see that on the above histogram too. So, filling NaN value in **height_m** column with **median value of the same column**."
   ]
  },
  {
   "cell_type": "code",
   "execution_count": 8,
   "id": "1515bfd9-bb70-4bbf-8428-3186a4f95a88",
   "metadata": {},
   "outputs": [],
   "source": [
    "# filling nan value in height_m with median of same column\n",
    "med=df['height_m'].median()\n",
    "df['height_m']=df['height_m'].fillna(med)"
   ]
  },
  {
   "cell_type": "markdown",
   "id": "74b14d58-ce02-44fa-b255-24540185750b",
   "metadata": {},
   "source": [
    "The **percentage_male**(percentage of the species that are male) column contains 98 NaN values, which represent genderless species. **These values are left as NaN to maintain the distinction between gendered and genderless species.** This decision is based on the fact that genderless species do not have a meaningful percentage of males, and imputing these values could introduce unnecessary bias into the analysis"
   ]
  },
  {
   "cell_type": "markdown",
   "id": "6f237d2a-883b-4f7a-a6ae-30fca3bb117a",
   "metadata": {},
   "source": [
    "**type2**(The Secondary Type of the Pokemon) has 384 missing values. This column is useful as we may want to view the secondary type of pokemon.So, we can fill the missing value with frequently repeating type (i.e. with mode of the column). But type2 of 384 pokemon is missing i.e. about 47%, imputing might introduce bias here. From google search found out that the missing value in type2 column indicates that particular pokemon has no secondary type. So, can leave NaN value as it is or fill with the placeholder \"No Type\". Let's go with the placeholder \"No Type\"."
   ]
  },
  {
   "cell_type": "code",
   "execution_count": 9,
   "id": "9af5e8d0-92ba-49f3-aaf2-b5304ac53b33",
   "metadata": {},
   "outputs": [],
   "source": [
    "df['type2']=df['type2'].fillna(\"No Type\")"
   ]
  },
  {
   "cell_type": "markdown",
   "id": "f5c8b467-87e1-4b8c-9def-c2601c87b63f",
   "metadata": {},
   "source": [
    "The **weight_kg**(The Weight of the Pokemon in kilograms) column contains 20 missing values. To handle these, we can fill them with the median if the distribution is skewed or with the mean if it is not. The weight_kg column is significant, and dropping the 20 rows with missing values would impact the analysis since the total number of rows is only 801"
   ]
  },
  {
   "cell_type": "code",
   "execution_count": 10,
   "id": "9dcfa582-eed5-4d06-9f7f-6f42704e73f5",
   "metadata": {},
   "outputs": [
    {
     "name": "stdout",
     "output_type": "stream",
     "text": [
      "Skewness: 4.871044454630607\n"
     ]
    },
    {
     "data": {
      "image/png": "[encoded data removed]",
      "text/plain": [
       "<Figure size 640x480 with 1 Axes>"
      ]
     },
     "metadata": {},
     "output_type": "display_data"
    }
   ],
   "source": [
    "weights = df['weight_kg'].dropna()\n",
    "\n",
    "# find the skewness of the weight \n",
    "skewness = weights.skew()\n",
    "print(f\"Skewness: {skewness}\")\n",
    "\n",
    "# Plot histogram to visualize the height distribution\n",
    "plt.hist(weights,bins=10,edgecolor='black')\n",
    "plt.title('Distribution of Pokémon Weights')\n",
    "plt.xlabel('Weight (kg)')\n",
    "plt.ylabel('Frequency')\n",
    "plt.show()"
   ]
  },
  {
   "cell_type": "markdown",
   "id": "17c6b1f8-bcaa-4379-8fcb-548521d28083",
   "metadata": {},
   "source": [
    "From above **skewness is 4.871044454630607(strongly positively skewed)**. We can see that on the above histogram too. So, filling NaN value in **weight_kg** column with **median value of the same column**."
   ]
  },
  {
   "cell_type": "code",
   "execution_count": 11,
   "id": "98b19808-29cf-4512-9599-0cbaa94b1eec",
   "metadata": {},
   "outputs": [],
   "source": [
    "# filling nan value in weight_kg with median of same column\n",
    "wt_med=df['weight_kg'].median()\n",
    "df['weight_kg']=df['weight_kg'].fillna(wt_med)"
   ]
  },
  {
   "cell_type": "code",
   "execution_count": 12,
   "id": "93d6ff5c-cea4-43d7-a844-89fd269495e2",
   "metadata": {},
   "outputs": [
    {
     "data": {
      "text/plain": [
       "abilities             0\n",
       "against_bug           0\n",
       "against_dark          0\n",
       "against_dragon        0\n",
       "against_electric      0\n",
       "against_fairy         0\n",
       "against_fight         0\n",
       "against_fire          0\n",
       "against_flying        0\n",
       "against_ghost         0\n",
       "against_grass         0\n",
       "against_ground        0\n",
       "against_ice           0\n",
       "against_normal        0\n",
       "against_poison        0\n",
       "against_psychic       0\n",
       "against_rock          0\n",
       "against_steel         0\n",
       "against_water         0\n",
       "attack                0\n",
       "base_egg_steps        0\n",
       "base_happiness        0\n",
       "base_total            0\n",
       "capture_rate          0\n",
       "classfication         0\n",
       "defense               0\n",
       "experience_growth     0\n",
       "height_m              0\n",
       "hp                    0\n",
       "japanese_name         0\n",
       "name                  0\n",
       "percentage_male      98\n",
       "pokedex_number        0\n",
       "sp_attack             0\n",
       "sp_defense            0\n",
       "speed                 0\n",
       "type1                 0\n",
       "type2                 0\n",
       "weight_kg             0\n",
       "generation            0\n",
       "is_legendary          0\n",
       "dtype: int64"
      ]
     },
     "execution_count": 12,
     "metadata": {},
     "output_type": "execute_result"
    }
   ],
   "source": [
    "# count the null values in each columns\n",
    "df.isnull().sum()"
   ]
  },
  {
   "cell_type": "markdown",
   "id": "fd1fa34a-af29-4380-b992-1d49707c02c0",
   "metadata": {},
   "source": [
    "## Data Exploration"
   ]
  },
  {
   "cell_type": "markdown",
   "id": "46e69f77-4a88-4c61-a180-4b7ec822df75",
   "metadata": {},
   "source": [
    "#### How many unique Pokémon are there in the dataset?"
   ]
  },
  {
   "cell_type": "code",
   "execution_count": null,
   "id": "b4737772-bb83-4d1e-861a-56225efcd793",
   "metadata": {},
   "outputs": [],
   "source": []
  },
  {
   "cell_type": "markdown",
   "id": "9d1b1a9f-f94a-41b5-8218-92f7d85320dd",
   "metadata": {},
   "source": [
    "#### What are the most common Pokémon types?"
   ]
  },
  {
   "cell_type": "code",
   "execution_count": null,
   "id": "97947e7f-626a-45ce-bdd8-263f0a4805db",
   "metadata": {},
   "outputs": [],
   "source": []
  },
  {
   "cell_type": "markdown",
   "id": "0d6c839d-099f-45ef-99d3-7c46c1aca926",
   "metadata": {},
   "source": [
    "#### How many legendary Pokémon are there?"
   ]
  },
  {
   "cell_type": "code",
   "execution_count": null,
   "id": "e781c771-b920-4010-b750-b23a3c392eb3",
   "metadata": {},
   "outputs": [],
   "source": []
  },
  {
   "cell_type": "markdown",
   "id": "5f20b160-c246-43b2-90ef-d1557630fa58",
   "metadata": {},
   "source": [
    "#### What is the average HP (Hit Points) of all Pokémon?"
   ]
  },
  {
   "cell_type": "code",
   "execution_count": null,
   "id": "eedec320-e4a7-423d-9149-0962d7492132",
   "metadata": {},
   "outputs": [],
   "source": []
  },
  {
   "cell_type": "markdown",
   "id": "d7744759-9882-494c-b341-f72cc8c7db20",
   "metadata": {},
   "source": [
    "#### Which Pokémon has the highest total stats (HP, Attack, Defense, Special Attack, Special Defense, Speed)?"
   ]
  },
  {
   "cell_type": "code",
   "execution_count": null,
   "id": "e7e3fff5-2cf3-4243-935f-fd537dad39b1",
   "metadata": {},
   "outputs": [],
   "source": []
  },
  {
   "cell_type": "markdown",
   "id": "e80eb6d1-adfe-415f-97f9-b59ed879338f",
   "metadata": {},
   "source": [
    "#### Is there a correlation between HP and Defense stats?"
   ]
  },
  {
   "cell_type": "code",
   "execution_count": null,
   "id": "bcf47da7-4934-4080-85e6-ecf89a9dec1c",
   "metadata": {},
   "outputs": [],
   "source": []
  },
  {
   "cell_type": "markdown",
   "id": "0d78c213-74f0-44a8-852f-eb547aa27106",
   "metadata": {},
   "source": [
    "#### How does the average weight of Pokémon vary by type?"
   ]
  },
  {
   "cell_type": "code",
   "execution_count": null,
   "id": "ec42ffe0-3005-4d9b-bcb0-1d8b3dcbea8a",
   "metadata": {},
   "outputs": [],
   "source": []
  },
  {
   "cell_type": "markdown",
   "id": "73e7fcba-f977-49c0-90a1-5cd6873967f0",
   "metadata": {},
   "source": [
    "#### What is the distribution of Pokémon by generation?\n",
    "Visualize how Pokémon are distributed across different generations."
   ]
  },
  {
   "cell_type": "code",
   "execution_count": null,
   "id": "61e927dd-d567-4df6-b6b0-fb8b347297fb",
   "metadata": {},
   "outputs": [],
   "source": []
  },
  {
   "cell_type": "markdown",
   "id": "d9a93c00-19c5-4dd3-b122-637c2c4be546",
   "metadata": {},
   "source": [
    "#### Which Pokémon type has the highest average attack power?"
   ]
  },
  {
   "cell_type": "code",
   "execution_count": null,
   "id": "ab1532b3-56c7-4e75-8c0b-c39988fc4165",
   "metadata": {},
   "outputs": [],
   "source": []
  },
  {
   "cell_type": "markdown",
   "id": "6aed3505-4cfc-4f6d-b899-ec78199f925b",
   "metadata": {},
   "source": [
    "#### Compare the average stats (HP, Attack, Defense) of Fire-type Pokémon vs. Water-type Pokémon."
   ]
  },
  {
   "cell_type": "code",
   "execution_count": null,
   "id": "be08c298-4b72-4e06-984d-45d09e10f7da",
   "metadata": {},
   "outputs": [],
   "source": []
  },
  {
   "cell_type": "markdown",
   "id": "c6038042-4234-4d85-8292-57581680dff2",
   "metadata": {},
   "source": [
    "#### Which Pokémon has the highest speed?"
   ]
  },
  {
   "cell_type": "code",
   "execution_count": null,
   "id": "4d2981c8-73c2-4fd8-ba6d-e0c056045b76",
   "metadata": {},
   "outputs": [],
   "source": []
  },
  {
   "cell_type": "markdown",
   "id": "16f19764-f54a-4c17-aaca-5143482ad47d",
   "metadata": {},
   "source": [
    "#### How does the distribution of legendary Pokémon change across generations?\n",
    "- analyze how the number and characteristics of legendary Pokémon have evolved across different generations of the Pokémon series\n",
    "- can use the bar plot to visualize the distribution of legendary pokemon across generations"
   ]
  },
  {
   "cell_type": "code",
   "execution_count": null,
   "id": "b22392b4-34e4-4564-bed1-f313928999bb",
   "metadata": {},
   "outputs": [],
   "source": []
  },
  {
   "cell_type": "markdown",
   "id": "abe81557-28ff-4b92-9fec-1de59185fe10",
   "metadata": {},
   "source": [
    "#### Create a bar chart showing the count of each Pokémon type."
   ]
  },
  {
   "cell_type": "code",
   "execution_count": null,
   "id": "cc0fd9cb-c83a-410b-bf5f-5cc7531b3691",
   "metadata": {},
   "outputs": [],
   "source": []
  },
  {
   "cell_type": "markdown",
   "id": "cec55e20-5cee-4332-89d8-cf6eae1dead9",
   "metadata": {},
   "source": [
    "#### Plot a scatter plot of Attack vs. Defense for all Pokémon"
   ]
  },
  {
   "cell_type": "code",
   "execution_count": null,
   "id": "26e9b946-d70e-4f3b-818a-6b60b4ad4ea8",
   "metadata": {},
   "outputs": [],
   "source": []
  },
  {
   "cell_type": "markdown",
   "id": "79ad0c11-6d3a-427d-b5eb-97a69b75e10a",
   "metadata": {},
   "source": [
    "#### Generate a pie chart of legendary vs. non-legendary Pokémon."
   ]
  },
  {
   "cell_type": "code",
   "execution_count": null,
   "id": "7bcba979-403f-4238-a77c-09afd8f3d380",
   "metadata": {},
   "outputs": [],
   "source": []
  },
  {
   "cell_type": "markdown",
   "id": "f52ba3f3-9994-49a6-80ec-97fea3e643bb",
   "metadata": {},
   "source": [
    "#### Create a box plot of Speed by Generation.\n",
    "learn about box plot: \n",
    "https://en.wikipedia.org/wiki/Box_plot\n",
    "https://www.geeksforgeeks.org/box-plot/"
   ]
  },
  {
   "cell_type": "code",
   "execution_count": null,
   "id": "6ae22857-9ddb-4b56-97b4-9676898b6153",
   "metadata": {},
   "outputs": [],
   "source": []
  },
  {
   "cell_type": "markdown",
   "id": "57d007bc-edff-4e30-9dc6-2f6415909dcb",
   "metadata": {},
   "source": [
    "#### Visualize the distribution of HP by Type using a histogram.\n",
    "Find how HP varies across different types."
   ]
  },
  {
   "cell_type": "code",
   "execution_count": null,
   "id": "79175230-f76f-495f-95bf-a71bea6a25b5",
   "metadata": {},
   "outputs": [],
   "source": []
  }
 ],
 "metadata": {
  "kernelspec": {
   "display_name": "Python 3 (ipykernel)",
   "language": "python",
   "name": "python3"
  },
  "language_info": {
   "codemirror_mode": {
    "name": "ipython",
    "version": 3
   },
   "file_extension": ".py",
   "mimetype": "text/x-python",
   "name": "python",
   "nbconvert_exporter": "python",
   "pygments_lexer": "ipython3",
   "version": "3.12.9"
  }
 },
 "nbformat": 4,
 "nbformat_minor": 5
}
